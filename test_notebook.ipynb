{
 "cells": [
  {
   "cell_type": "code",
   "execution_count": null,
   "metadata": {},
   "outputs": [],
   "source": [
    "from matplotlib.pyplot import subplots,scatter\n",
    "from numpy import random,arange\n",
    "from time import localtime, strftime"
   ]
  },
  {
   "cell_type": "code",
   "execution_count": null,
   "metadata": {},
   "outputs": [],
   "source": [
    "print(\"Last time the notebook has been executed: {}\".format(strftime(\"%a, %d %b %Y %H:%M:%S\", localtime())))"
   ]
  },
  {
   "cell_type": "code",
   "execution_count": null,
   "metadata": {},
   "outputs": [],
   "source": [
    "print(\"A random list: {}\".format(random.randint(1,100,5)))"
   ]
  },
  {
   "cell_type": "code",
   "execution_count": null,
   "metadata": {},
   "outputs": [],
   "source": [
    "fig, ax = subplots(figsize=(5,5))\n",
    "x_points = random.randint(1,100,20)\n",
    "exponent_1 = random.choice(arange(-1,3.5,0.5))\n",
    "exponent_2 = random.choice(arange(-1,3.5,0.5))\n",
    "ax.scatter(x_points, x_points**exponent_1, label=exponent_1, marker='+')\n",
    "ax.scatter(x_points, x_points**exponent_2, label=exponent_2, alpha=0.5)\n",
    "ax.legend();\n",
    "ax.set_title('A randomized figure:');"
   ]
  },
  {
   "cell_type": "code",
   "execution_count": null,
   "metadata": {},
   "outputs": [],
   "source": []
  }
 ],
 "metadata": {
  "kernelspec": {
   "display_name": "Python 2",
   "language": "python",
   "name": "python2"
  },
  "language_info": {
   "codemirror_mode": {
    "name": "ipython",
    "version": 2
   },
   "file_extension": ".py",
   "mimetype": "text/x-python",
   "name": "python",
   "nbconvert_exporter": "python",
   "pygments_lexer": "ipython2",
   "version": "2.7.15"
  }
 },
 "nbformat": 4,
 "nbformat_minor": 2
}
