{
 "cells": [
  {
   "cell_type": "markdown",
   "metadata": {},
   "source": [
    "# Intro "
   ]
  },
  {
   "cell_type": "markdown",
   "metadata": {},
   "source": [
    "This notebook aims to show how to integrate `git` with Jupyter notebooks in a reproducible manner. It demonstrates how `nbstripout` and `nbdime` work to solve two of the main problem with `git` integration."
   ]
  },
  {
   "cell_type": "markdown",
   "metadata": {},
   "source": [
    "# The problem "
   ]
  },
  {
   "cell_type": "markdown",
   "metadata": {},
   "source": [
    "The problem with Jupyter notebooks is that they are not plain text files but actually have a complex JSON structure which contains both the code and its output. \n",
    "\n",
    "We usually don't see this structure while working on a notebook if we try to read them as text files (say for instance by checking the raw version of a notebook on Github) or try to use `git` on them we are almost lost. \n",
    "\n",
    "This is problematic for doing version control, first because we are unable to check effectively what is happening from commit to commit, but also because we don't need `git` to monitor *everything* inside our notebooks: if we change mundane details, say from `plt.scatter([1,2,3],[1,4,9],'red')` to `plt.scatter([1,2,3],[1,4,9],'blue')`, we would like to know the parameter we've changed but not which pixel on our screen is different from the previous version. \n",
    "\n",
    "So we have two issues:\n",
    "1. Stripping out from commit the unnecessary details (i.e cells output) of our notebooks. \n",
    "2. Interpreting notebook git diffs in a better way"
   ]
  },
  {
   "cell_type": "raw",
   "metadata": {},
   "source": [
    "There are different solutions proposed to solve these issues and I will demonstrate them in the rest of the notebook."
   ]
  },
  {
   "cell_type": "markdown",
   "metadata": {},
   "source": [
    "# The setup "
   ]
  },
  {
   "cell_type": "markdown",
   "metadata": {},
   "source": [
    "To see which is the problem we're trying to solve, let's use a test notebook. Let's create a notebook which once executed will create some random output which will trigger git. "
   ]
  },
  {
   "cell_type": "markdown",
   "metadata": {},
   "source": [
    "Execute the following two cells to create the notebook in your folder:"
   ]
  },
  {
   "cell_type": "code",
   "execution_count": 1,
   "metadata": {},
   "outputs": [
    {
     "name": "stdout",
     "output_type": "stream",
     "text": [
      "Writing test.py\n"
     ]
    }
   ],
   "source": [
    "%%writefile test.py\n",
    "# <codecell>\n",
    "from matplotlib.pyplot import subplots,scatter\n",
    "from numpy import random,arange\n",
    "from time import localtime, strftime\n",
    "\n",
    "# <codecell>\n",
    "# print a timestamp\n",
    "print(\"Last time the notebook has been executed: {}\".format(strftime(\"%a, %d %b %Y %H:%M:%S\", localtime())))\n",
    "\n",
    "# <codecell>\n",
    "# print a random list\n",
    "print(\"A random list: {}\".format(random.randint(1,100,5)))\n",
    "\n",
    "# <codecell>\n",
    "# print a figure\n",
    "fig, ax = subplots(figsize=(5,5))\n",
    "x_points = random.randint(1,100,20)\n",
    "exponent_1 = random.choice(arange(-1,3.5,0.5))\n",
    "exponent_2 = random.choice(arange(-1,3.5,0.5))\n",
    "ax.scatter(x_points, x_points**exponent_1, label=exponent_1, marker='+')\n",
    "ax.scatter(x_points, x_points**exponent_2, label=exponent_2, alpha=0.5)\n",
    "ax.legend();\n",
    "ax.set_title('A randomized figure:');"
   ]
  },
  {
   "cell_type": "code",
   "execution_count": 2,
   "metadata": {},
   "outputs": [],
   "source": [
    "# taken from \n",
    "# https://stackoverflow.com/questions/23292242/converting-to-not-from-ipython-notebook-format\n",
    "from nbformat import v3, v4\n",
    "with open(\"test.py\") as fpin:\n",
    "    text = fpin.read()\n",
    "nbook = v3.reads_py(text)\n",
    "nbook = v4.upgrade(nbook)  # Upgrade v3 to v4\n",
    "jsonform = v4.writes(nbook) + \"\\n\"\n",
    "with open(\"test_notebook.ipynb\", \"w\") as fpout:\n",
    "    fpout.write(jsonform)"
   ]
  },
  {
   "cell_type": "markdown",
   "metadata": {},
   "source": [
    "##  Run test notebook and see the diff "
   ]
  },
  {
   "cell_type": "markdown",
   "metadata": {},
   "source": [
    "Executing the content of the notebook will show that even if we don't touch anything in the code, `git` will register changes and require us to commit or discard them. "
   ]
  },
  {
   "cell_type": "markdown",
   "metadata": {},
   "source": [
    "We will use the `!` magic to execute the notebook from command line and then call `git`.\n",
    "\n",
    "- More one how to execute notebook from command line can be found in the [offical documentation](https://nbconvert.readthedocs.io/en/latest/execute_api.html). Here are also two [SO](https://stackoverflow.com/questions/35471894/can-i-run-jupyter-notebook-cells-in-commandline) [questions](https://stackoverflow.com/questions/35545402/how-to-run-an-ipynb-jupyter-notebook-from-terminal) which could help too.  "
   ]
  },
  {
   "cell_type": "raw",
   "metadata": {},
   "source": [
    "git clone test repo\n",
    "git init"
   ]
  },
  {
   "cell_type": "code",
   "execution_count": null,
   "metadata": {},
   "outputs": [],
   "source": [
    "# execute the notebook\n",
    "!jupyter nbconvert --execute --to notebook --inplace test_notebook"
   ]
  },
  {
   "cell_type": "code",
   "execution_count": null,
   "metadata": {},
   "outputs": [],
   "source": [
    "# show changes are registered by git\n",
    "!git status"
   ]
  },
  {
   "cell_type": "code",
   "execution_count": null,
   "metadata": {},
   "outputs": [],
   "source": [
    "# add and commit\n",
    "!git add test_notebook.ipynb\n",
    "!git commit -m 'Run the notebook, get new results.' --author=\"author <name.surname@mail.org>\""
   ]
  },
  {
   "cell_type": "code",
   "execution_count": null,
   "metadata": {},
   "outputs": [],
   "source": [
    "# check log to see the content of changes\n",
    "!git log -p -1 "
   ]
  },
  {
   "cell_type": "markdown",
   "metadata": {},
   "source": [
    "We can see that cell output changes are registered by git and that the image change is gibberish (for us)."
   ]
  },
  {
   "cell_type": "markdown",
   "metadata": {},
   "source": [
    "# Chosen solutions"
   ]
  },
  {
   "cell_type": "markdown",
   "metadata": {},
   "source": [
    "## Solution 1: remove output with `nbstripout` "
   ]
  },
  {
   "cell_type": "markdown",
   "metadata": {},
   "source": [
    "`nbstripout` [(documentation here)](https://github.com/kynan/nbstripout) is a tool that automatically removes the cell outputs in our notebooks. It has the following features:\n",
    "- can be run from command line\n",
    "- it's specific to the folder (hence can be run selectively on certain projects)\n",
    "- allows customization (see the documentation for more)"
   ]
  },
  {
   "cell_type": "markdown",
   "metadata": {},
   "source": [
    "### Installation and setup"
   ]
  },
  {
   "cell_type": "markdown",
   "metadata": {},
   "source": [
    "Follow installation instructions explained in the readme. In my case it was sufficient to run from command line the following:"
   ]
  },
  {
   "cell_type": "markdown",
   "metadata": {},
   "source": [
    "```bash\n",
    "# install\n",
    ">>> conda install -c conda-forge nbstripout\n",
    ">>> nbstripout --install\n",
    "\n",
    "# check installation\n",
    ">>> nbstripout --status\n",
    "nbstripout is installed in repository etc etc\n",
    "```"
   ]
  },
  {
   "cell_type": "markdown",
   "metadata": {},
   "source": [
    "You can also check the installation inside the notebook by running `!nbstripout --status`"
   ]
  },
  {
   "cell_type": "markdown",
   "metadata": {},
   "source": [
    "### Test "
   ]
  },
  {
   "cell_type": "markdown",
   "metadata": {},
   "source": [
    "#### Remove output "
   ]
  },
  {
   "cell_type": "markdown",
   "metadata": {},
   "source": [
    "First let's remove the output and commit the \"empty\" notebook:"
   ]
  },
  {
   "cell_type": "code",
   "execution_count": null,
   "metadata": {},
   "outputs": [],
   "source": [
    "!nbstripout test_notebook.ipynb"
   ]
  },
  {
   "cell_type": "code",
   "execution_count": null,
   "metadata": {},
   "outputs": [],
   "source": [
    "# add and commit\n",
    "!git add test_notebook.ipynb\n",
    "!git commit -m 'Run the notebook, get new results, strip new results.' --author=\"author <name.surname@mail.org>\""
   ]
  },
  {
   "cell_type": "markdown",
   "metadata": {},
   "source": [
    "#### Check effect of stripping output "
   ]
  },
  {
   "cell_type": "markdown",
   "metadata": {},
   "source": [
    "Then let's rerun the notebook (hence generating the output), remove it and see what git tells us: "
   ]
  },
  {
   "cell_type": "code",
   "execution_count": null,
   "metadata": {},
   "outputs": [],
   "source": [
    "# execute the notebook\n",
    "!jupyter nbconvert --execute --to notebook --inplace test_notebook"
   ]
  },
  {
   "cell_type": "code",
   "execution_count": null,
   "metadata": {},
   "outputs": [],
   "source": [
    "# strip\n",
    "!nbstripout test_notebook.ipynb"
   ]
  },
  {
   "cell_type": "code",
   "execution_count": null,
   "metadata": {},
   "outputs": [],
   "source": [
    "# show changes are registered by git\n",
    "!git status"
   ]
  },
  {
   "cell_type": "markdown",
   "metadata": {},
   "source": [
    "We can see that by stripping out our randomly generated output we are left only with the code. Since it has not changed from the previous commit git tells us that there are no changes to commit for our notebook."
   ]
  },
  {
   "cell_type": "markdown",
   "metadata": {},
   "source": [
    "#### Make actual changes"
   ]
  },
  {
   "cell_type": "markdown",
   "metadata": {},
   "source": [
    " Now let's try to add new code to the notebook to see the actual power of nbstripout. "
   ]
  },
  {
   "cell_type": "code",
   "execution_count": null,
   "metadata": {},
   "outputs": [],
   "source": []
  },
  {
   "cell_type": "markdown",
   "metadata": {},
   "source": [
    "## Solution 2: Analyze diffs with `nbdime` "
   ]
  },
  {
   "cell_type": "markdown",
   "metadata": {},
   "source": [
    "# Other solutions "
   ]
  },
  {
   "cell_type": "code",
   "execution_count": null,
   "metadata": {},
   "outputs": [],
   "source": []
  }
 ],
 "metadata": {
  "kernelspec": {
   "display_name": "Python 2",
   "language": "python",
   "name": "python2"
  },
  "language_info": {
   "codemirror_mode": {
    "name": "ipython",
    "version": 2
   },
   "file_extension": ".py",
   "mimetype": "text/x-python",
   "name": "python",
   "nbconvert_exporter": "python",
   "pygments_lexer": "ipython2",
   "version": "2.7.15"
  }
 },
 "nbformat": 4,
 "nbformat_minor": 2
}
