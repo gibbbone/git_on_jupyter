{
 "cells": [
  {
   "cell_type": "markdown",
   "metadata": {},
   "source": [
    "This notebook aims to show, in a reproducible manner, how to integrate `git` with Jupyter notebooks. It demonstrates explicitly how `nbstripout` and `nbdime` work to solve two of the main issues with `git` integration. It's a step by step guide so not expect a quick summary. "
   ]
  },
  {
   "cell_type": "markdown",
   "metadata": {},
   "source": [
    "Index:\n",
    "\n",
    "1. [The problem](#section1)\n",
    "2. [The setup](#section2)\n",
    "3. [Solution 1: remove output with `nbstripout`](#section3)\n",
    "4. [Solution 2: Analyze diffs with `nbdime`](#section4)\n",
    "5. [References](#section5)"
   ]
  },
  {
   "cell_type": "markdown",
   "metadata": {},
   "source": [
    "# The problem <a id='section1'></a>"
   ]
  },
  {
   "cell_type": "markdown",
   "metadata": {},
   "source": [
    "The problem with doing version control of Jupyter notebooks is that they are not plain text files (as .py scripts) but actually have a complex JSON structure which contains both the code and its output. \n",
    "\n",
    "We usually don't see this structure while working on a notebook, but if we try to read them as text files (say for instance by checking the raw version of a notebook on Github) or try to use `git` on them we are almost lost. \n",
    "\n",
    "This is problematic for version control, first because we are unable to check effectively what is happening from commit to commit, but also because we don't need `git` to monitor *everything* inside our notebooks: if we change mundane details, say from `plt.scatter(x=[1,2,3],y=[1,4,9],c='red')` to `plt.scatter(x=[1,2,3],y=[1,4,9],c='blue')`, we would like to know which parameter we've changed but not which pixel on our screen is different from the previous version. \n",
    "\n",
    "So we have two issues to solve:\n",
    "1. Stripping out from commit the unnecessary details (i.e cells output) of our notebooks. \n",
    "2. Interpreting notebook git diffs in a better way"
   ]
  },
  {
   "cell_type": "markdown",
   "metadata": {},
   "source": [
    "# The setup <a id='section2'></a>"
   ]
  },
  {
   "cell_type": "markdown",
   "metadata": {},
   "source": [
    "To see which is the problem we're trying to solve, let's use a test notebook. Let's create a notebook which once executed will create some random output which will normally trigger git. "
   ]
  },
  {
   "cell_type": "markdown",
   "metadata": {},
   "source": [
    "Execute the following two cells to create the notebook in your folder:"
   ]
  },
  {
   "cell_type": "code",
   "execution_count": 1,
   "metadata": {},
   "outputs": [
    {
     "name": "stdout",
     "output_type": "stream",
     "text": [
      "Writing test.py\n"
     ]
    }
   ],
   "source": [
    "%%writefile test.py\n",
    "# <codecell>\n",
    "from matplotlib.pyplot import subplots,scatter\n",
    "from numpy import random,arange\n",
    "from time import localtime, strftime\n",
    "\n",
    "# <codecell>\n",
    "# print a timestamp\n",
    "print(\"Last time the notebook has been executed: {}\".format(strftime(\"%a, %d %b %Y %H:%M:%S\", localtime())))\n",
    "\n",
    "# <codecell>\n",
    "# print a random list\n",
    "print(\"A random list: {}\".format(random.randint(1,100,5)))\n",
    "\n",
    "# <codecell>\n",
    "# print a figure\n",
    "fig, ax = subplots(figsize=(5,5))\n",
    "x_points = random.randint(1,100,20)\n",
    "exponent_1 = random.choice(arange(-1,3.5,0.5))\n",
    "exponent_2 = random.choice(arange(-1,3.5,0.5))\n",
    "ax.scatter(x_points, x_points**exponent_1, label=exponent_1, marker='+')\n",
    "ax.scatter(x_points, x_points**exponent_2, label=exponent_2, alpha=0.5)\n",
    "ax.legend();\n",
    "ax.set_title('A randomized figure:');"
   ]
  },
  {
   "cell_type": "code",
   "execution_count": 2,
   "metadata": {},
   "outputs": [],
   "source": [
    "from nbformat import v3, v4\n",
    "\n",
    "def convert_script_to_notebook(script_input, notebook_output):\n",
    "    \"\"\"\n",
    "    inspired by:\n",
    "    https://stackoverflow.com/questions/23292242/converting-to-not-from-ipython-notebook-format\n",
    "    \"\"\"\n",
    "    with open(script_input) as fpin:\n",
    "        text = fpin.read()\n",
    "    nbook = v3.reads_py(text)\n",
    "    nbook = v4.upgrade(nbook)  # Upgrade v3 to v4\n",
    "    jsonform = v4.writes(nbook) + \"\\n\"\n",
    "    with open(notebook_output, \"w\") as fpout:\n",
    "        fpout.write(jsonform)\n",
    "    return"
   ]
  },
  {
   "cell_type": "code",
   "execution_count": 3,
   "metadata": {},
   "outputs": [],
   "source": [
    "convert_script_to_notebook(\"test.py\",\"test_notebook.ipynb\")"
   ]
  },
  {
   "cell_type": "markdown",
   "metadata": {},
   "source": [
    "##  Run test notebook and see the diff "
   ]
  },
  {
   "cell_type": "markdown",
   "metadata": {},
   "source": [
    "Executing the content of the notebook will show that even if we don't touch anything in the code, `git` will register changes and require us to commit or discard them. "
   ]
  },
  {
   "cell_type": "markdown",
   "metadata": {},
   "source": [
    "### Run once"
   ]
  },
  {
   "cell_type": "markdown",
   "metadata": {},
   "source": [
    "We proceed as if we were creating the notebook from scratch and start tracking it with git after executing its content:"
   ]
  },
  {
   "cell_type": "code",
   "execution_count": 4,
   "metadata": {},
   "outputs": [
    {
     "name": "stdout",
     "output_type": "stream",
     "text": [
      "Initialized empty Git repository in /home/gibbone/Desktop/github_tutorial/git_on_jupyter_testing/.git/\n",
      "[NbConvertApp] WARNING | Config option `template_path` not recognized by `NotebookExporter`.\n",
      "[NbConvertApp] Converting notebook test_notebook.ipynb to notebook\n",
      "[NbConvertApp] Executing notebook with kernel: python\n",
      "[NbConvertApp] Writing 12805 bytes to test_notebook.ipynb\n",
      "[master (root-commit) 34babe8] Created test notebook\n",
      " Author: author <name.surname@mail.org>\n",
      " 1 file changed, 90 insertions(+)\n",
      " create mode 100644 test_notebook.ipynb\n"
     ]
    }
   ],
   "source": [
    "# start monitoring the test notebook and commit it as it is\n",
    "!git init\n",
    "!jupyter nbconvert --execute --to notebook --inplace test_notebook\n",
    "!git add test_notebook.ipynb\n",
    "!git commit -m 'Created test notebook' --author=\"author <name.surname@mail.org>\""
   ]
  },
  {
   "cell_type": "markdown",
   "metadata": {},
   "source": [
    "### Run again and check the difference"
   ]
  },
  {
   "cell_type": "markdown",
   "metadata": {},
   "source": [
    "We want to check what happens with git when the output (but not the code) of our notebook changes, hence we run it again."
   ]
  },
  {
   "cell_type": "code",
   "execution_count": 5,
   "metadata": {},
   "outputs": [
    {
     "name": "stdout",
     "output_type": "stream",
     "text": [
      "[NbConvertApp] WARNING | Config option `template_path` not recognized by `NotebookExporter`.\n",
      "[NbConvertApp] Converting notebook test_notebook.ipynb to notebook\n",
      "[NbConvertApp] Executing notebook with kernel: python\n",
      "[NbConvertApp] Writing 11301 bytes to test_notebook.ipynb\n"
     ]
    }
   ],
   "source": [
    "# execute the notebook\n",
    "!jupyter nbconvert --execute --to notebook --inplace test_notebook"
   ]
  },
  {
   "cell_type": "code",
   "execution_count": 6,
   "metadata": {
    "scrolled": true
   },
   "outputs": [
    {
     "name": "stdout",
     "output_type": "stream",
     "text": [
      "On branch master\r\n",
      "Changes not staged for commit:\r\n",
      "  (use \"git add <file>...\" to update what will be committed)\r\n",
      "  (use \"git checkout -- <file>...\" to discard changes in working directory)\r\n",
      "\r\n",
      "\t\u001b[31mmodified:   test_notebook.ipynb\u001b[m\r\n",
      "\r\n",
      "Untracked files:\r\n",
      "  (use \"git add <file>...\" to include in what will be committed)\r\n",
      "\r\n",
      "\t\u001b[31m.gitattributes\u001b[m\r\n",
      "\t\u001b[31m.ipynb_checkpoints/\u001b[m\r\n",
      "\t\u001b[31mHow to integrate Git on Jupyter Notebooks.ipynb\u001b[m\r\n",
      "\t\u001b[31mtest.py\u001b[m\r\n",
      "\r\n",
      "no changes added to commit (use \"git add\" and/or \"git commit -a\")\r\n"
     ]
    }
   ],
   "source": [
    "# show changes are registered by git\n",
    "!git status"
   ]
  },
  {
   "cell_type": "markdown",
   "metadata": {},
   "source": [
    "We see that git find some changes in the output and require us to commit, so we do it:"
   ]
  },
  {
   "cell_type": "code",
   "execution_count": 7,
   "metadata": {},
   "outputs": [
    {
     "name": "stdout",
     "output_type": "stream",
     "text": [
      "[master 6f3cfef] Ran the notebook, got new output. Had to commit.\r\n",
      " Author: author <name.surname@mail.org>\r\n",
      " 1 file changed, 90 insertions(+), 90 deletions(-)\r\n",
      " rewrite test_notebook.ipynb (84%)\r\n"
     ]
    }
   ],
   "source": [
    "# add and commit\n",
    "!git add test_notebook.ipynb\n",
    "!git commit -m 'Ran the notebook, got new output. Had to commit.' --author=\"author <name.surname@mail.org>\""
   ]
  },
  {
   "cell_type": "markdown",
   "metadata": {},
   "source": [
    "Finally we want to check the diff of our commit:"
   ]
  },
  {
   "cell_type": "code",
   "execution_count": 8,
   "metadata": {},
   "outputs": [
    {
     "name": "stdout",
     "output_type": "stream",
     "text": [
      "\u001b[33mcommit 6f3cfef071890633d426987139f65281c806e971\u001b[m\n",
      "Author: author <name.surname@mail.org>\n",
      "Date:   Thu Aug 2 16:50:19 2018 +0100\n",
      "\n",
      "    Ran the notebook, got new output. Had to commit.\n",
      "\n",
      "\u001b[1mdiff --git a/test_notebook.ipynb b/test_notebook.ipynb\u001b[m\n",
      "\u001b[1mindex 997465c..e385a51 100644\u001b[m\n",
      "\u001b[1m--- a/test_notebook.ipynb\u001b[m\n",
      "\u001b[1m+++ b/test_notebook.ipynb\u001b[m\n",
      "\u001b[36m@@ -24,7 +24,7 @@\u001b[m\n",
      "      \"name\": \"stdout\",\u001b[m\n",
      "      \"output_type\": \"stream\",\u001b[m\n",
      "      \"text\": [\u001b[m\n",
      "\u001b[31m-      \"Last time the notebook has been executed: Thu, 02 Aug 2018 16:49:58\\n\"\u001b[m\n",
      "\u001b[32m+\u001b[m\u001b[32m      \"Last time the notebook has been executed: Thu, 02 Aug 2018 16:50:12\\n\"\u001b[m\n",
      "      ]\u001b[m\n",
      "     }\u001b[m\n",
      "    ],\u001b[m\n",
      "\u001b[36m@@ -44,7 +44,7 @@\u001b[m\n",
      "      \"name\": \"stdout\",\u001b[m\n",
      "      \"output_type\": \"stream\",\u001b[m\n",
      "      \"text\": [\u001b[m\n",
      "\u001b[31m-      \"A random list: [82 65 67 89 95]\\n\"\u001b[m\n",
      "\u001b[32m+\u001b[m\u001b[32m      \"A random list: [32 11 81 83 92]\\n\"\u001b[m\n",
      "      ]\u001b[m\n",
      "     }\u001b[m\n",
      "    ],\u001b[m\n",
      "\u001b[36m@@ -62,7 +62,7 @@\u001b[m\n",
      "    \"outputs\": [\u001b[m\n",
      "     {\u001b[m\n",
      "      \"data\": {\u001b[m\n",
      "\u001b[31m-      \"image/png\": \"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\\n\",\u001b[m\n",
      "\u001b[32m+\u001b[m\u001b[32m      \"image/png\": \"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\\n\",\u001b[m\n",
      "       \"text/plain\": [\u001b[m\n",
      "        \"<Figure size 360x360 with 1 Axes>\"\u001b[m\n",
      "       ]\u001b[m\n"
     ]
    }
   ],
   "source": [
    "# check log to see the content of changes\n",
    "!git log -p -1 "
   ]
  },
  {
   "cell_type": "markdown",
   "metadata": {},
   "source": [
    "We can see that cell output changes are registered by git and that the image change is gibberish (for us)."
   ]
  },
  {
   "cell_type": "markdown",
   "metadata": {},
   "source": [
    "# Solution 1: remove output with `nbstripout` <a id='section3'></a>"
   ]
  },
  {
   "cell_type": "markdown",
   "metadata": {},
   "source": [
    "The first of our problem was that git was tracking too much of our notebook, so we would like it to just monitor the changes in code. `nbstripout` [(documentation here)](https://github.com/kynan/nbstripout) is a tool that automatically removes the cell outputs in our notebooks. \n",
    "\n",
    "It has the following features:\n",
    "- Can be run from command line\n",
    "- It's specific to the folder: you have to install it in each folder you're tracking. Hence can be run selectively on certain projects only. \n",
    "- Allows customization: for instance we can choose for some notebook to not have the output stripped. See the documentation for more."
   ]
  },
  {
   "cell_type": "markdown",
   "metadata": {},
   "source": [
    "## Installation and setup"
   ]
  },
  {
   "cell_type": "markdown",
   "metadata": {},
   "source": [
    "Follow installation instructions from the documentation. In my case it was sufficient to run from command line the following:"
   ]
  },
  {
   "cell_type": "markdown",
   "metadata": {},
   "source": [
    "```bash\n",
    "# install module\n",
    ">>> conda install -c conda-forge nbstripout\n",
    "\n",
    "# initiate program inside the folder\n",
    ">>> nbstripout --install\n",
    "\n",
    "# check installation\n",
    ">>> nbstripout --status\n",
    "nbstripout is installed in repository etc etc\n",
    "```"
   ]
  },
  {
   "cell_type": "markdown",
   "metadata": {},
   "source": [
    "## Demonstration "
   ]
  },
  {
   "cell_type": "markdown",
   "metadata": {},
   "source": [
    "### Reset notebook"
   ]
  },
  {
   "cell_type": "markdown",
   "metadata": {},
   "source": [
    "First let's install nbstripout in the folder and check it:"
   ]
  },
  {
   "cell_type": "code",
   "execution_count": 9,
   "metadata": {},
   "outputs": [],
   "source": [
    "!nbstripout --install"
   ]
  },
  {
   "cell_type": "code",
   "execution_count": 10,
   "metadata": {
    "scrolled": true
   },
   "outputs": [
    {
     "name": "stdout",
     "output_type": "stream",
     "text": [
      "nbstripout is installed in repository /home/gibbone/Desktop/github_tutorial/git_on_jupyter_testing\r\n",
      "\r\n",
      "Filter:\r\n",
      "  clean = \"/home/gibbone/anaconda3/envs/env_2.7/bin/python2.7\" \"/home/gibbone/anaconda3/envs/env_2.7/lib/python2.7/site-packages/nbstripout.pyc\"\r\n",
      "  smudge = cat\r\n",
      "  required = true\r\n",
      "  diff= nbstripout -t\r\n",
      "\r\n",
      "Attributes:\r\n",
      "  *.ipynb: filter: nbstripout\r\n",
      "\r\n",
      "Diff Attributes:\r\n",
      "  *.ipynb: diff: ipynb\r\n"
     ]
    }
   ],
   "source": [
    "!nbstripout --status"
   ]
  },
  {
   "cell_type": "markdown",
   "metadata": {},
   "source": [
    "Then let's remove the output and commit the \"empty\" notebook so that we're back to the initial state:"
   ]
  },
  {
   "cell_type": "code",
   "execution_count": 11,
   "metadata": {},
   "outputs": [
    {
     "name": "stdout",
     "output_type": "stream",
     "text": [
      "[master f8fc8a0] Ran the notebook, got new results, stripped them.\n",
      " Author: author <name.surname@mail.org>\n",
      " 1 file changed, 55 insertions(+), 90 deletions(-)\n",
      " rewrite test_notebook.ipynb (89%)\n"
     ]
    }
   ],
   "source": [
    "# strip\n",
    "!nbstripout test_notebook.ipynb\n",
    "\n",
    "# add and commit\n",
    "!git add test_notebook.ipynb\n",
    "!git commit -m 'Ran the notebook, got new results, stripped them.' --author=\"author <name.surname@mail.org>\""
   ]
  },
  {
   "cell_type": "markdown",
   "metadata": {},
   "source": [
    "### Check effect of stripping output "
   ]
  },
  {
   "cell_type": "markdown",
   "metadata": {},
   "source": [
    "Finally let's rerun the notebook as we did at the beginning, hence generating the  problematic output cells, remove them with nbstripout and see what git tells us: "
   ]
  },
  {
   "cell_type": "code",
   "execution_count": 12,
   "metadata": {},
   "outputs": [
    {
     "name": "stdout",
     "output_type": "stream",
     "text": [
      "[NbConvertApp] WARNING | Config option `template_path` not recognized by `NotebookExporter`.\n",
      "[NbConvertApp] Converting notebook test_notebook.ipynb to notebook\n",
      "[NbConvertApp] Executing notebook with kernel: python\n",
      "[NbConvertApp] Writing 12537 bytes to test_notebook.ipynb\n",
      "On branch master\n",
      "Untracked files:\n",
      "  (use \"git add <file>...\" to include in what will be committed)\n",
      "\n",
      "\t\u001b[31m.gitattributes\u001b[m\n",
      "\t\u001b[31m.ipynb_checkpoints/\u001b[m\n",
      "\t\u001b[31mHow to integrate Git on Jupyter Notebooks.ipynb\u001b[m\n",
      "\t\u001b[31mtest.py\u001b[m\n",
      "\n",
      "nothing added to commit but untracked files present (use \"git add\" to track)\n"
     ]
    }
   ],
   "source": [
    "# execute the notebook\n",
    "!jupyter nbconvert --execute --to notebook --inplace test_notebook\n",
    "\n",
    "# strip\n",
    "!nbstripout test_notebook.ipynb\n",
    "\n",
    "# show changes are registered by git\n",
    "!git status"
   ]
  },
  {
   "cell_type": "markdown",
   "metadata": {},
   "source": [
    "We can see that by stripping out our randomly generated output we are left only with the code. Since it has not changed from the previous commit git tells us that there are no changes to commit for our notebook."
   ]
  },
  {
   "cell_type": "markdown",
   "metadata": {},
   "source": [
    "### Make code changes to see if they're registered"
   ]
  },
  {
   "cell_type": "markdown",
   "metadata": {},
   "source": [
    "Now let's try to add new code to the test notebook to see the actual power of nbstripout. We add a new code cell at the bottom of the file then we see what git tells us:"
   ]
  },
  {
   "cell_type": "code",
   "execution_count": 13,
   "metadata": {},
   "outputs": [
    {
     "name": "stdout",
     "output_type": "stream",
     "text": [
      "Overwriting test.py\n"
     ]
    }
   ],
   "source": [
    "%%writefile test.py\n",
    "# <codecell>\n",
    "from matplotlib.pyplot import subplots,scatter\n",
    "from numpy import random,arange\n",
    "from time import localtime, strftime\n",
    "\n",
    "# <codecell>\n",
    "# print a timestamp\n",
    "print(\"Last time the notebook has been executed: {}\".format(strftime(\"%a, %d %b %Y %H:%M:%S\", localtime())))\n",
    "\n",
    "# <codecell>\n",
    "# print a random list\n",
    "print(\"A random list: {}\".format(random.randint(1,100,5)))\n",
    "\n",
    "# <codecell>\n",
    "# print a figure\n",
    "fig, ax = subplots(figsize=(5,5))\n",
    "x_points = random.randint(1,100,20)\n",
    "exponent_1 = random.choice(arange(-1,3.5,0.5))\n",
    "exponent_2 = random.choice(arange(-1,3.5,0.5))\n",
    "ax.scatter(x_points, x_points**exponent_1, label=exponent_1, marker='+')\n",
    "ax.scatter(x_points, x_points**exponent_2, label=exponent_2, alpha=0.5)\n",
    "ax.legend();\n",
    "ax.set_title('A randomized figure:');\n",
    "\n",
    "# <codecell>\n",
    "# new code <--------------\n",
    "print(\"This some new code I've added to test nbstripout\")"
   ]
  },
  {
   "cell_type": "code",
   "execution_count": 14,
   "metadata": {},
   "outputs": [],
   "source": [
    "convert_script_to_notebook(\"test.py\",\"test_notebook.ipynb\")"
   ]
  },
  {
   "cell_type": "code",
   "execution_count": 15,
   "metadata": {},
   "outputs": [
    {
     "name": "stdout",
     "output_type": "stream",
     "text": [
      "On branch master\n",
      "Changes not staged for commit:\n",
      "  (use \"git add <file>...\" to update what will be committed)\n",
      "  (use \"git checkout -- <file>...\" to discard changes in working directory)\n",
      "\n",
      "\t\u001b[31mmodified:   test_notebook.ipynb\u001b[m\n",
      "\n",
      "Untracked files:\n",
      "  (use \"git add <file>...\" to include in what will be committed)\n",
      "\n",
      "\t\u001b[31m.gitattributes\u001b[m\n",
      "\t\u001b[31m.ipynb_checkpoints/\u001b[m\n",
      "\t\u001b[31mHow to integrate Git on Jupyter Notebooks.ipynb\u001b[m\n",
      "\t\u001b[31mtest.py\u001b[m\n",
      "\n",
      "no changes added to commit (use \"git add\" and/or \"git commit -a\")\n"
     ]
    }
   ],
   "source": [
    "!git status"
   ]
  },
  {
   "cell_type": "markdown",
   "metadata": {},
   "source": [
    "We've added some code, so it's normal that git ask us to commit the changes. But since we don't know if it is code or simply the output we execute the notebook again and then pass it through nbstripout before asking again. If git tells us that there's something new now we know that it is only code:"
   ]
  },
  {
   "cell_type": "code",
   "execution_count": 16,
   "metadata": {},
   "outputs": [
    {
     "name": "stdout",
     "output_type": "stream",
     "text": [
      "[NbConvertApp] WARNING | Config option `template_path` not recognized by `NotebookExporter`.\n",
      "[NbConvertApp] Converting notebook test_notebook.ipynb to notebook\n",
      "[NbConvertApp] Executing notebook with kernel: python\n",
      "[NbConvertApp] Writing 12215 bytes to test_notebook.ipynb\n",
      "On branch master\n",
      "Changes not staged for commit:\n",
      "  (use \"git add <file>...\" to update what will be committed)\n",
      "  (use \"git checkout -- <file>...\" to discard changes in working directory)\n",
      "\n",
      "\t\u001b[31mmodified:   test_notebook.ipynb\u001b[m\n",
      "\n",
      "Untracked files:\n",
      "  (use \"git add <file>...\" to include in what will be committed)\n",
      "\n",
      "\t\u001b[31m.gitattributes\u001b[m\n",
      "\t\u001b[31m.ipynb_checkpoints/\u001b[m\n",
      "\t\u001b[31mHow to integrate Git on Jupyter Notebooks.ipynb\u001b[m\n",
      "\t\u001b[31mtest.py\u001b[m\n",
      "\n",
      "no changes added to commit (use \"git add\" and/or \"git commit -a\")\n"
     ]
    }
   ],
   "source": [
    "# execute the notebook\n",
    "!jupyter nbconvert --execute --to notebook --inplace test_notebook\n",
    "\n",
    "# strip\n",
    "!nbstripout test_notebook.ipynb\n",
    "\n",
    "# show changes are registered by git\n",
    "!git status"
   ]
  },
  {
   "cell_type": "markdown",
   "metadata": {},
   "source": [
    "So there's really some new code! So let's commit and see the diff:"
   ]
  },
  {
   "cell_type": "code",
   "execution_count": 17,
   "metadata": {},
   "outputs": [
    {
     "name": "stdout",
     "output_type": "stream",
     "text": [
      "[master 74e0596] 'Ran the notebook, got new code. Committing it's mandatory now.\n",
      " Author: author <name.surname@mail.org>\n",
      " 1 file changed, 10 insertions(+)\n",
      "\u001b[33mcommit 74e05960d5dc2e9c338ec54e940421ce102816b8\u001b[m\n",
      "Author: author <name.surname@mail.org>\n",
      "Date:   Thu Aug 2 16:51:39 2018 +0100\n",
      "\n",
      "    'Ran the notebook, got new code. Committing it's mandatory now.\n",
      "\n",
      "\u001b[1mdiff --git a/test_notebook.ipynb b/test_notebook.ipynb\u001b[m\n",
      "\u001b[1mindex 0a0edde..a83f7f8 100644\u001b[m\n",
      "\u001b[1m--- a/test_notebook.ipynb\u001b[m\n",
      "\u001b[1m+++ b/test_notebook.ipynb\u001b[m\n",
      "\u001b[36m@@ -47,6 +47,16 @@\u001b[m\n",
      "     \"ax.legend();\\n\",\u001b[m\n",
      "     \"ax.set_title('A randomized figure:');\"\u001b[m\n",
      "    ]\u001b[m\n",
      "\u001b[32m+\u001b[m\u001b[32m  },\u001b[m\n",
      "\u001b[32m+\u001b[m\u001b[32m  {\u001b[m\n",
      "\u001b[32m+\u001b[m\u001b[32m   \"cell_type\": \"code\",\u001b[m\n",
      "\u001b[32m+\u001b[m\u001b[32m   \"execution_count\": null,\u001b[m\n",
      "\u001b[32m+\u001b[m\u001b[32m   \"metadata\": {},\u001b[m\n",
      "\u001b[32m+\u001b[m\u001b[32m   \"outputs\": [],\u001b[m\n",
      "\u001b[32m+\u001b[m\u001b[32m   \"source\": [\u001b[m\n",
      "\u001b[32m+\u001b[m\u001b[32m    \"# new code <--------------\\n\",\u001b[m\n",
      "\u001b[32m+\u001b[m\u001b[32m    \"print(\\\"This some new code I've added to test nbstripout\\\")\"\u001b[m\n",
      "\u001b[32m+\u001b[m\u001b[32m   ]\u001b[m\n",
      "   }\u001b[m\n",
      "  ],\u001b[m\n",
      "  \"metadata\": {},\u001b[m\n"
     ]
    }
   ],
   "source": [
    "# add and commit\n",
    "!git add test_notebook.ipynb\n",
    "!git commit -m \"'Ran the notebook, got new code. Committing it's mandatory now.\" --author=\"author <name.surname@mail.org>\"\n",
    "\n",
    "# check log to see the content of changes\n",
    "!git log -p -1 "
   ]
  },
  {
   "cell_type": "markdown",
   "metadata": {},
   "source": [
    "Now we can see only the change in the code in the diff, exactly what we needed."
   ]
  },
  {
   "cell_type": "markdown",
   "metadata": {},
   "source": [
    "# Solution 2: Analyze diffs with `nbdime` <a id='section4'></a>"
   ]
  },
  {
   "cell_type": "markdown",
   "metadata": {},
   "source": [
    "Even after solving the output problem with `nbstripout` we're left with diffs which are a little bit convoluted to interpret (cfr how a one line change is registered above). Moreover sometimes it's fine for us that git stores also the changes in output, since they contain valuable, but we would like a better tool to check differences in output and have a clearer way to proceed with merge.\n",
    "\n",
    "Enters `nbdime`[(documentation here)](http://nbdime.readthedocs.io/en/stable/). `nbdime` is a tool with several features designed to help preview, compare and merge notebooks:\n",
    "\n",
    "- `nbdiff` compare notebooks in a terminal-friendly way\n",
    "- `nbmerge` three-way merge of notebooks with automatic conflict resolution\n",
    "- `nbdiff-web` shows you a rich rendered diff of notebooks\n",
    "- `nbmerge-web` gives you a web-based three-way merge tool for notebooks\n",
    "- `nbshow` present a single notebook in a terminal-friendly way"
   ]
  },
  {
   "cell_type": "markdown",
   "metadata": {},
   "source": [
    "## Installation and setup"
   ]
  },
  {
   "cell_type": "markdown",
   "metadata": {},
   "source": [
    "As before, installing `nbdime` is straightforward when following the instructions. Like `nbstripout` it must be activate singularly in each folder so that one can choose if he wants to use for a particular project. In my case it has been enough to type:"
   ]
  },
  {
   "cell_type": "markdown",
   "metadata": {},
   "source": [
    "```bash\n",
    "# install module\n",
    ">>> pip install --upgrade nbdime\n",
    "\n",
    "# initiate program inside the folder\n",
    ">>> !nbdime config-git --enable\n",
    "```"
   ]
  },
  {
   "cell_type": "markdown",
   "metadata": {},
   "source": [
    "## Demonstration "
   ]
  },
  {
   "cell_type": "code",
   "execution_count": 18,
   "metadata": {},
   "outputs": [],
   "source": [
    "# activate it in the actual folder of this notebook\n",
    "!nbdime config-git --enable"
   ]
  },
  {
   "cell_type": "markdown",
   "metadata": {},
   "source": [
    "First let's use the command line tool to check the last two diffs. Let's check our log to obtain the hashs of our commits:"
   ]
  },
  {
   "cell_type": "code",
   "execution_count": 19,
   "metadata": {},
   "outputs": [],
   "source": [
    "%%capture last_commits\n",
    "!git log -n 2 | grep -o \"\\([a-z0-9]\\{40\\}\\)\" "
   ]
  },
  {
   "cell_type": "code",
   "execution_count": 20,
   "metadata": {},
   "outputs": [],
   "source": [
    "a = last_commits.stdout.split(\"\\r\\n\")[0]\n",
    "b = last_commits.stdout.split(\"\\r\\n\")[1]"
   ]
  },
  {
   "cell_type": "code",
   "execution_count": 21,
   "metadata": {},
   "outputs": [
    {
     "name": "stdout",
     "output_type": "stream",
     "text": [
      "nbdiff test_notebook.ipynb (f8fc8a06e8a2c1835cfb1cfe1f2d0313dc17aac9) test_notebook.ipynb (74e05960d5dc2e9c338ec54e940421ce102816b8)\r\n",
      "--- test_notebook.ipynb (f8fc8a06e8a2c1835cfb1cfe1f2d0313dc17aac9)  (no timestamp)\r\n",
      "+++ test_notebook.ipynb (74e05960d5dc2e9c338ec54e940421ce102816b8)  (no timestamp)\r\n",
      "\u001b[34m## inserted before /cells/4:\u001b[0m\r\n",
      "\u001b[32m+  code cell:\r\n",
      "\u001b[32m+    source:\r\n",
      "\u001b[32m+      # new code <--------------\r\n",
      "\u001b[32m+      print(\"This some new code I've added to test nbstripout\")\r\n",
      "\r\n",
      "\u001b[0m"
     ]
    }
   ],
   "source": [
    "!nbdiff $b $a"
   ]
  },
  {
   "cell_type": "markdown",
   "metadata": {},
   "source": [
    "We can see that `nbdime` recognize the content of the notebook and gives us a clearer diff. Now let's use its web visualization tool to visualize the diffs:"
   ]
  },
  {
   "cell_type": "code",
   "execution_count": 22,
   "metadata": {},
   "outputs": [
    {
     "name": "stdout",
     "output_type": "stream",
     "text": [
      "[I nbdimeserver:375] Listening on 127.0.0.1, port 56532\n",
      "[W webutil:18] No web browser found: could not locate runnable browser.\n",
      "[I webutil:29] URL: http://127.0.0.1:56532/difftool\n",
      "[I nbdimeserver:304] Closing server on remote request\n"
     ]
    }
   ],
   "source": [
    "!nbdiff-web $b $a"
   ]
  },
  {
   "cell_type": "markdown",
   "metadata": {},
   "source": [
    "The webtool will give us an URL where to check our diffs in a visual way, it will use a web browser if it finds one or, as in my case, just return the address to check.  "
   ]
  },
  {
   "cell_type": "markdown",
   "metadata": {},
   "source": [
    "## Checking diffs including output "
   ]
  },
  {
   "cell_type": "markdown",
   "metadata": {},
   "source": [
    "`nbdiff` allows us to compare also between difference outputs, withotut stripping it out before. To demonstrate this we will now deactivate `nbstripout` and execute and commit twice our test_notebook and check the diffs with `nbdiff`. "
   ]
  },
  {
   "cell_type": "code",
   "execution_count": 23,
   "metadata": {},
   "outputs": [],
   "source": [
    "!nbstripout --uninstall"
   ]
  },
  {
   "cell_type": "code",
   "execution_count": 24,
   "metadata": {},
   "outputs": [
    {
     "name": "stdout",
     "output_type": "stream",
     "text": [
      "[NbConvertApp] WARNING | Config option `template_path` not recognized by `NotebookExporter`.\n",
      "[NbConvertApp] Converting notebook test_notebook.ipynb to notebook\n",
      "[NbConvertApp] Executing notebook with kernel: python\n",
      "[NbConvertApp] Writing 13144 bytes to test_notebook.ipynb\n",
      "[master 9ef9d77] 'Ran the notebook, got first results.\n",
      " Author: author <name.surname@mail.org>\n",
      " 1 file changed, 44 insertions(+), 9 deletions(-)\n"
     ]
    }
   ],
   "source": [
    "# execute notebook once\n",
    "!jupyter nbconvert --execute --to notebook --inplace test_notebook\n",
    "\n",
    "# add and commit\n",
    "!git add test_notebook.ipynb\n",
    "!git commit -m \"'Ran the notebook, got first results.\" --author=\"author <name.surname@mail.org>\""
   ]
  },
  {
   "cell_type": "code",
   "execution_count": 25,
   "metadata": {},
   "outputs": [
    {
     "name": "stdout",
     "output_type": "stream",
     "text": [
      "[NbConvertApp] WARNING | Config option `template_path` not recognized by `NotebookExporter`.\n",
      "[NbConvertApp] Converting notebook test_notebook.ipynb to notebook\n",
      "[NbConvertApp] Executing notebook with kernel: python\n",
      "[NbConvertApp] Writing 11200 bytes to test_notebook.ipynb\n",
      "[master d5e9045] 'Ran the notebook, got second results.\n",
      " Author: author <name.surname@mail.org>\n",
      " 1 file changed, 100 insertions(+), 100 deletions(-)\n",
      " rewrite test_notebook.ipynb (82%)\n"
     ]
    }
   ],
   "source": [
    "# execute notebook again\n",
    "!jupyter nbconvert --execute --to notebook --inplace test_notebook\n",
    "\n",
    "# add and commit\n",
    "!git add test_notebook.ipynb\n",
    "!git commit -m \"'Ran the notebook, got second results.\" --author=\"author <name.surname@mail.org>\""
   ]
  },
  {
   "cell_type": "code",
   "execution_count": 26,
   "metadata": {},
   "outputs": [],
   "source": [
    "%%capture last_commits\n",
    "!git log -n 2 | grep -o \"\\([a-z0-9]\\{40\\}\\)\" "
   ]
  },
  {
   "cell_type": "code",
   "execution_count": 27,
   "metadata": {},
   "outputs": [],
   "source": [
    "a = last_commits.stdout.split(\"\\r\\n\")[0]\n",
    "b = last_commits.stdout.split(\"\\r\\n\")[1]"
   ]
  },
  {
   "cell_type": "code",
   "execution_count": 28,
   "metadata": {},
   "outputs": [
    {
     "name": "stdout",
     "output_type": "stream",
     "text": [
      "nbdiff test_notebook.ipynb (9ef9d779ae2e6924171d3df558f0dc516387368b) test_notebook.ipynb (d5e90457da34d3b32c43d9c2da0f039d7b55d2bb)\n",
      "--- test_notebook.ipynb (9ef9d779ae2e6924171d3df558f0dc516387368b)  (no timestamp)\n",
      "+++ test_notebook.ipynb (d5e90457da34d3b32c43d9c2da0f039d7b55d2bb)  (no timestamp)\n",
      "\u001b[34m## modified /cells/1/outputs/0/text:\u001b[0m\n",
      "\u001b[36m@@ -1 +1 @@\u001b[m\n",
      "\u001b[31m-Last time the notebook has been executed: Thu, 02 Aug 2018 16:53:03\u001b[m\n",
      "\u001b[32m+\u001b[m\u001b[32mLast time the notebook has been executed: Thu, 02 Aug 2018 16:53:14\u001b[m\n",
      "\n",
      "\u001b[0m\u001b[34m## modified /cells/2/outputs/0/text:\u001b[0m\n",
      "\u001b[36m@@ -1 +1 @@\u001b[m\n",
      "\u001b[31m-A random list: [47 36 76  6 29]\u001b[m\n",
      "\u001b[32m+\u001b[m\u001b[32mA random list: [30 69 31 65  6]\u001b[m\n",
      "\n",
      "\u001b[0m\u001b[34m## inserted before /cells/3/outputs/0:\u001b[0m\n",
      "\u001b[32m+  output:\n",
      "\u001b[32m+    output_type: display_data\n",
      "\u001b[32m+    data:\n",
      "\u001b[32m+      image/png: iVBORw0K...<snip base64, md5=e3f36543da6c83ab...>\n",
      "\u001b[32m+      text/plain: <Figure size 360x360 with 1 Axes>\n",
      "\n",
      "\u001b[0m\u001b[34m## deleted /cells/3/outputs/0:\u001b[0m\n",
      "\u001b[31m-  output:\n",
      "\u001b[31m-    output_type: display_data\n",
      "\u001b[31m-    data:\n",
      "\u001b[31m-      image/png: iVBORw0K...<snip base64, md5=8d4994a29e696884...>\n",
      "\u001b[31m-      text/plain: <Figure size 360x360 with 1 Axes>\n",
      "\n",
      "\u001b[0m"
     ]
    }
   ],
   "source": [
    "!nbdiff $b $a"
   ]
  },
  {
   "cell_type": "markdown",
   "metadata": {},
   "source": [
    "We can see that `nbdime` recognize the content of the notebook and gives us a clearer diff. Now let's use its web visualization tool to visualize the diffs:"
   ]
  },
  {
   "cell_type": "code",
   "execution_count": 29,
   "metadata": {},
   "outputs": [
    {
     "name": "stdout",
     "output_type": "stream",
     "text": [
      "[I nbdimeserver:375] Listening on 127.0.0.1, port 56585\n",
      "[W webutil:18] No web browser found: could not locate runnable browser.\n",
      "[I webutil:29] URL: http://127.0.0.1:56585/difftool\n",
      "[I nbdimeserver:304] Closing server on remote request\n"
     ]
    }
   ],
   "source": [
    "!nbdiff-web $b $a "
   ]
  },
  {
   "cell_type": "markdown",
   "metadata": {},
   "source": [
    "# References <a id='section5'></a>"
   ]
  },
  {
   "cell_type": "markdown",
   "metadata": {},
   "source": [
    "- [`nbstripout`](https://github.com/kynan/nbstripout) \n",
    "- [`nbdime`](http://nbdime.readthedocs.io/en/stable/)\n",
    "- [A PYCON UK talk about these topics, with some additional solutions](https://www.youtube.com/watch?v=J3k3HkVnd2c)"
   ]
  },
  {
   "cell_type": "code",
   "execution_count": null,
   "metadata": {},
   "outputs": [],
   "source": []
  }
 ],
 "metadata": {
  "kernelspec": {
   "display_name": "Python 2",
   "language": "python",
   "name": "python2"
  },
  "language_info": {
   "codemirror_mode": {
    "name": "ipython",
    "version": 2
   },
   "file_extension": ".py",
   "mimetype": "text/x-python",
   "name": "python",
   "nbconvert_exporter": "python",
   "pygments_lexer": "ipython2",
   "version": "2.7.15"
  }
 },
 "nbformat": 4,
 "nbformat_minor": 2
}
