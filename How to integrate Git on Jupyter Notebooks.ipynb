{
 "cells": [
  {
   "cell_type": "markdown",
   "metadata": {},
   "source": [
    "# Intro "
   ]
  },
  {
   "cell_type": "markdown",
   "metadata": {},
   "source": [
    "This notebook aims to show, in a reproducible manner, how to integrate `git` with Jupyter notebooks. It demonstrates explicitly how `nbstripout` and `nbdime` work to solve two of the main issues with `git` integration. It's a step by step guide so not expect a quick summary. "
   ]
  },
  {
   "cell_type": "markdown",
   "metadata": {},
   "source": [
    "# The problem "
   ]
  },
  {
   "cell_type": "markdown",
   "metadata": {},
   "source": [
    "The problem with doing version control of Jupyter notebooks is that they are not plain text files (as .py scripts) but actually have a complex JSON structure which contains both the code and its output. \n",
    "\n",
    "We usually don't see this structure while working on a notebook, but if we try to read them as text files (say for instance by checking the raw version of a notebook on Github) or try to use `git` on them we are almost lost. \n",
    "\n",
    "This is problematic for version control, first because we are unable to check effectively what is happening from commit to commit, but also because we don't need `git` to monitor *everything* inside our notebooks: if we change mundane details, say from `plt.scatter(x=[1,2,3],y=[1,4,9],c='red')` to `plt.scatter(x=[1,2,3],y=[1,4,9],c='blue')`, we would like to know which parameter we've changed but not which pixel on our screen is different from the previous version. \n",
    "\n",
    "So we have two issues to solve:\n",
    "1. Stripping out from commit the unnecessary details (i.e cells output) of our notebooks. \n",
    "2. Interpreting notebook git diffs in a better way"
   ]
  },
  {
   "cell_type": "markdown",
   "metadata": {},
   "source": [
    "# The setup "
   ]
  },
  {
   "cell_type": "markdown",
   "metadata": {},
   "source": [
    "To see which is the problem we're trying to solve, let's use a test notebook. Let's create a notebook which once executed will create some random output which will normally trigger git. "
   ]
  },
  {
   "cell_type": "markdown",
   "metadata": {},
   "source": [
    "Execute the following two cells to create the notebook in your folder:"
   ]
  },
  {
   "cell_type": "code",
   "execution_count": 1,
   "metadata": {},
   "outputs": [
    {
     "name": "stdout",
     "output_type": "stream",
     "text": [
      "Writing test.py\n"
     ]
    }
   ],
   "source": [
    "%%writefile test.py\n",
    "# <codecell>\n",
    "from matplotlib.pyplot import subplots,scatter\n",
    "from numpy import random,arange\n",
    "from time import localtime, strftime\n",
    "\n",
    "# <codecell>\n",
    "# print a timestamp\n",
    "print(\"Last time the notebook has been executed: {}\".format(strftime(\"%a, %d %b %Y %H:%M:%S\", localtime())))\n",
    "\n",
    "# <codecell>\n",
    "# print a random list\n",
    "print(\"A random list: {}\".format(random.randint(1,100,5)))\n",
    "\n",
    "# <codecell>\n",
    "# print a figure\n",
    "fig, ax = subplots(figsize=(5,5))\n",
    "x_points = random.randint(1,100,20)\n",
    "exponent_1 = random.choice(arange(-1,3.5,0.5))\n",
    "exponent_2 = random.choice(arange(-1,3.5,0.5))\n",
    "ax.scatter(x_points, x_points**exponent_1, label=exponent_1, marker='+')\n",
    "ax.scatter(x_points, x_points**exponent_2, label=exponent_2, alpha=0.5)\n",
    "ax.legend();\n",
    "ax.set_title('A randomized figure:');"
   ]
  },
  {
   "cell_type": "code",
   "execution_count": 2,
   "metadata": {},
   "outputs": [],
   "source": [
    "# taken from \n",
    "# https://stackoverflow.com/questions/23292242/converting-to-not-from-ipython-notebook-format\n",
    "from nbformat import v3, v4\n",
    "with open(\"test.py\") as fpin:\n",
    "    text = fpin.read()\n",
    "nbook = v3.reads_py(text)\n",
    "nbook = v4.upgrade(nbook)  # Upgrade v3 to v4\n",
    "jsonform = v4.writes(nbook) + \"\\n\"\n",
    "with open(\"test_notebook.ipynb\", \"w\") as fpout:\n",
    "    fpout.write(jsonform)"
   ]
  },
  {
   "cell_type": "markdown",
   "metadata": {},
   "source": [
    "##  Run test notebook and see the diff "
   ]
  },
  {
   "cell_type": "markdown",
   "metadata": {},
   "source": [
    "Executing the content of the notebook will show that even if we don't touch anything in the code, `git` will register changes and require us to commit or discard them. "
   ]
  },
  {
   "cell_type": "markdown",
   "metadata": {},
   "source": [
    "### Run once"
   ]
  },
  {
   "cell_type": "markdown",
   "metadata": {},
   "source": [
    "We proceed as if we were creating the notebook from scratch and start tracking it with git after executing its content:"
   ]
  },
  {
   "cell_type": "code",
   "execution_count": 3,
   "metadata": {},
   "outputs": [
    {
     "name": "stdout",
     "output_type": "stream",
     "text": [
      "Initialized empty Git repository in /home/gibbone/Desktop/github_tutorial/git_on_jupyter_testing/.git/\n",
      "[NbConvertApp] WARNING | Config option `template_path` not recognized by `NotebookExporter`.\n",
      "[NbConvertApp] Converting notebook test_notebook.ipynb to notebook\n",
      "[NbConvertApp] Executing notebook with kernel: python\n",
      "[NbConvertApp] Writing 11317 bytes to test_notebook.ipynb\n",
      "[master (root-commit) 7f5169c] Created test notebook\n",
      " Author: author <name.surname@mail.org>\n",
      " 1 file changed, 90 insertions(+)\n",
      " create mode 100644 test_notebook.ipynb\n"
     ]
    }
   ],
   "source": [
    "# start monitoring the test notebook and commit it as it is\n",
    "!git init\n",
    "!jupyter nbconvert --execute --to notebook --inplace test_notebook\n",
    "!git add test_notebook.ipynb\n",
    "!git commit -m 'Created test notebook' --author=\"author <name.surname@mail.org>\""
   ]
  },
  {
   "cell_type": "markdown",
   "metadata": {},
   "source": [
    "### Run again and check the difference"
   ]
  },
  {
   "cell_type": "markdown",
   "metadata": {},
   "source": [
    "We want to check what happens with git when the output (but not the code) of our notebook changes, hence we run it again."
   ]
  },
  {
   "cell_type": "code",
   "execution_count": 5,
   "metadata": {},
   "outputs": [
    {
     "name": "stdout",
     "output_type": "stream",
     "text": [
      "[NbConvertApp] WARNING | Config option `template_path` not recognized by `NotebookExporter`.\n",
      "[NbConvertApp] Converting notebook test_notebook.ipynb to notebook\n",
      "[NbConvertApp] Executing notebook with kernel: python\n",
      "[NbConvertApp] Writing 13213 bytes to test_notebook.ipynb\n"
     ]
    }
   ],
   "source": [
    "# execute the notebook\n",
    "!jupyter nbconvert --execute --to notebook --inplace test_notebook"
   ]
  },
  {
   "cell_type": "code",
   "execution_count": 6,
   "metadata": {
    "scrolled": true
   },
   "outputs": [
    {
     "name": "stdout",
     "output_type": "stream",
     "text": [
      "On branch master\r\n",
      "Changes not staged for commit:\r\n",
      "  (use \"git add <file>...\" to update what will be committed)\r\n",
      "  (use \"git checkout -- <file>...\" to discard changes in working directory)\r\n",
      "\r\n",
      "\t\u001b[31mmodified:   test_notebook.ipynb\u001b[m\r\n",
      "\r\n",
      "Untracked files:\r\n",
      "  (use \"git add <file>...\" to include in what will be committed)\r\n",
      "\r\n",
      "\t\u001b[31m.ipynb_checkpoints/\u001b[m\r\n",
      "\t\u001b[31mHow to integrate Git on Jupyter Notebooks.ipynb\u001b[m\r\n",
      "\t\u001b[31mREADME.md\u001b[m\r\n",
      "\t\u001b[31mtest.py\u001b[m\r\n",
      "\r\n",
      "no changes added to commit (use \"git add\" and/or \"git commit -a\")\r\n"
     ]
    }
   ],
   "source": [
    "# show changes are registered by git\n",
    "!git status"
   ]
  },
  {
   "cell_type": "markdown",
   "metadata": {},
   "source": [
    "We see that git find some changes in the output and require us to commit, so we do it:"
   ]
  },
  {
   "cell_type": "code",
   "execution_count": 7,
   "metadata": {},
   "outputs": [
    {
     "name": "stdout",
     "output_type": "stream",
     "text": [
      "[master 9bdddda] Ran the notebook, got new output. Had to commit.\r\n",
      " Author: author <name.surname@mail.org>\r\n",
      " 1 file changed, 90 insertions(+), 90 deletions(-)\r\n",
      " rewrite test_notebook.ipynb (82%)\r\n"
     ]
    }
   ],
   "source": [
    "# add and commit\n",
    "!git add test_notebook.ipynb\n",
    "!git commit -m 'Ran the notebook, got new output. Had to commit.' --author=\"author <name.surname@mail.org>\""
   ]
  },
  {
   "cell_type": "markdown",
   "metadata": {},
   "source": [
    "Finally we want to check the diff of our commit:"
   ]
  },
  {
   "cell_type": "code",
   "execution_count": 8,
   "metadata": {},
   "outputs": [
    {
     "name": "stdout",
     "output_type": "stream",
     "text": [
      "\u001b[33mcommit 9bddddab00b25a9c9272906499d5eca1fc966ed2\u001b[m\r\n",
      "Author: author <name.surname@mail.org>\r\n",
      "Date:   Mon Jul 30 19:35:30 2018 +0200\r\n",
      "\r\n",
      "    Ran the notebook, got new output. Had to commit.\r\n",
      "\r\n",
      "\u001b[1mdiff --git a/test_notebook.ipynb b/test_notebook.ipynb\u001b[m\r\n",
      "\u001b[1mindex 4f471e4..0135ca0 100644\u001b[m\r\n",
      "\u001b[1m--- a/test_notebook.ipynb\u001b[m\r\n",
      "\u001b[1m+++ b/test_notebook.ipynb\u001b[m\r\n",
      "\u001b[36m@@ -24,7 +24,7 @@\u001b[m\r\n",
      "      \"name\": \"stdout\",\u001b[m\r\n",
      "      \"output_type\": \"stream\",\u001b[m\r\n",
      "      \"text\": [\u001b[m\r\n",
      "\u001b[31m-      \"Last time the notebook has been executed: Mon, 30 Jul 2018 19:28:33\\n\"\u001b[m\r\n",
      "\u001b[32m+\u001b[m\u001b[32m      \"Last time the notebook has been executed: Mon, 30 Jul 2018 19:34:01\\n\"\u001b[m\r\n",
      "      ]\u001b[m\r\n",
      "     }\u001b[m\r\n",
      "    ],\u001b[m\r\n",
      "\u001b[36m@@ -44,7 +44,7 @@\u001b[m\r\n",
      "      \"name\": \"stdout\",\u001b[m\r\n",
      "      \"output_type\": \"stream\",\u001b[m\r\n",
      "      \"text\": [\u001b[m\r\n",
      "\u001b[31m-      \"A random list: [99  9 73 92 93]\\n\"\u001b[m\r\n",
      "\u001b[32m+\u001b[m\u001b[32m      \"A random list: [29 86 92 25 63]\\n\"\u001b[m\r\n",
      "      ]\u001b[m\r\n",
      "     }\u001b[m\r\n",
      "    ],\u001b[m\r\n",
      "\u001b[36m@@ -62,7 +62,7 @@\u001b[m\r\n",
      "    \"outputs\": [\u001b[m\r\n",
      "     {\u001b[m\r\n",
      "      \"data\": {\u001b[m\r\n",
      "\u001b[31m-      \"image/png\": \"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\\n\",\u001b[m\r\n"
     ]
    },
    {
     "name": "stdout",
     "output_type": "stream",
     "text": [
      "\u001b[32m+\u001b[m\u001b[32m      \"image/png\": \"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\\n\",\u001b[m\r\n",
      "       \"text/plain\": [\u001b[m\r\n",
      "        \"<Figure size 360x360 with 1 Axes>\"\u001b[m\r\n",
      "       ]\u001b[m\r\n"
     ]
    }
   ],
   "source": [
    "# check log to see the content of changes\n",
    "!git log -p -1 "
   ]
  },
  {
   "cell_type": "markdown",
   "metadata": {},
   "source": [
    "We can see that cell output changes are registered by git and that the image change is gibberish (for us)."
   ]
  },
  {
   "cell_type": "markdown",
   "metadata": {},
   "source": [
    "# Solution 1: remove output with `nbstripout` "
   ]
  },
  {
   "cell_type": "markdown",
   "metadata": {},
   "source": [
    "The first of our problem was that git was tracking too much of our notebook, so we would like it to just monitor the changes in code. `nbstripout` [(documentation here)](https://github.com/kynan/nbstripout) is a tool that automatically removes the cell outputs in our notebooks. \n",
    "\n",
    "It has the following features:\n",
    "- Can be run from command line\n",
    "- It's specific to the folder: you have to install it in each folder you're tracking. Hence can be run selectively on certain projects only. \n",
    "- Allows customization: for instance we can choose for some notebook to not have the output stripped. See the documentation for more."
   ]
  },
  {
   "cell_type": "markdown",
   "metadata": {},
   "source": [
    "## Installation and setup"
   ]
  },
  {
   "cell_type": "markdown",
   "metadata": {},
   "source": [
    "Follow installation instructions from the documentation. In my case it was sufficient to run from command line the following:"
   ]
  },
  {
   "cell_type": "markdown",
   "metadata": {},
   "source": [
    "```bash\n",
    "# install module\n",
    ">>> conda install -c conda-forge nbstripout\n",
    "\n",
    "# initiate program inside the folder\n",
    ">>> nbstripout --install\n",
    "\n",
    "# check installation\n",
    ">>> nbstripout --status\n",
    "nbstripout is installed in repository etc etc\n",
    "```"
   ]
  },
  {
   "cell_type": "markdown",
   "metadata": {},
   "source": [
    "## Demonstration "
   ]
  },
  {
   "cell_type": "markdown",
   "metadata": {},
   "source": [
    "### Reset notebook"
   ]
  },
  {
   "cell_type": "markdown",
   "metadata": {},
   "source": [
    "First let's install nbstripout in the folder and check it:"
   ]
  },
  {
   "cell_type": "code",
   "execution_count": 13,
   "metadata": {},
   "outputs": [],
   "source": [
    "!nbstripout --install"
   ]
  },
  {
   "cell_type": "code",
   "execution_count": 14,
   "metadata": {
    "scrolled": true
   },
   "outputs": [
    {
     "name": "stdout",
     "output_type": "stream",
     "text": [
      "nbstripout is installed in repository /home/gibbone/Desktop/github_tutorial/git_on_jupyter_testing\r\n",
      "\r\n",
      "Filter:\r\n",
      "  clean = \"/home/gibbone/anaconda3/envs/env_2.7/bin/python2.7\" \"/home/gibbone/anaconda3/envs/env_2.7/lib/python2.7/site-packages/nbstripout.pyc\"\r\n",
      "  smudge = cat\r\n",
      "  required = true\r\n",
      "  diff= nbstripout -t\r\n",
      "\r\n",
      "Attributes:\r\n",
      "  *.ipynb: filter: nbstripout\r\n",
      "\r\n",
      "Diff Attributes:\r\n",
      "  *.ipynb: diff: ipynb\r\n"
     ]
    }
   ],
   "source": [
    "!nbstripout --status"
   ]
  },
  {
   "cell_type": "markdown",
   "metadata": {},
   "source": [
    "Then let's remove the output and commit the \"empty\" notebook so that we're back to the initial state:"
   ]
  },
  {
   "cell_type": "code",
   "execution_count": 16,
   "metadata": {},
   "outputs": [
    {
     "name": "stdout",
     "output_type": "stream",
     "text": [
      "[master f553535] Ran the notebook, got new results, stripped them.\n",
      " Author: author <name.surname@mail.org>\n",
      " 1 file changed, 55 insertions(+), 90 deletions(-)\n",
      " rewrite test_notebook.ipynb (91%)\n"
     ]
    }
   ],
   "source": [
    "# strip\n",
    "!nbstripout test_notebook.ipynb\n",
    "\n",
    "# add and commit\n",
    "!git add test_notebook.ipynb\n",
    "!git commit -m 'Ran the notebook, got new results, stripped them.' --author=\"author <name.surname@mail.org>\""
   ]
  },
  {
   "cell_type": "markdown",
   "metadata": {},
   "source": [
    "### Check effect of stripping output "
   ]
  },
  {
   "cell_type": "markdown",
   "metadata": {},
   "source": [
    "Finally let's rerun the notebook as we did at the beginning, hence generating the  problematic output cells, remove them with nbstripout and see what git tells us: "
   ]
  },
  {
   "cell_type": "code",
   "execution_count": 17,
   "metadata": {},
   "outputs": [
    {
     "name": "stdout",
     "output_type": "stream",
     "text": [
      "[NbConvertApp] WARNING | Config option `template_path` not recognized by `NotebookExporter`.\n",
      "[NbConvertApp] Converting notebook test_notebook.ipynb to notebook\n",
      "[NbConvertApp] Executing notebook with kernel: python\n",
      "[NbConvertApp] Writing 12353 bytes to test_notebook.ipynb\n",
      "On branch master\n",
      "Untracked files:\n",
      "  (use \"git add <file>...\" to include in what will be committed)\n",
      "\n",
      "\t\u001b[31m.ipynb_checkpoints/\u001b[m\n",
      "\t\u001b[31mHow to integrate Git on Jupyter Notebooks.ipynb\u001b[m\n",
      "\t\u001b[31mREADME.md\u001b[m\n",
      "\t\u001b[31mtest.py\u001b[m\n",
      "\n",
      "nothing added to commit but untracked files present (use \"git add\" to track)\n"
     ]
    }
   ],
   "source": [
    "# execute the notebook\n",
    "!jupyter nbconvert --execute --to notebook --inplace test_notebook\n",
    "\n",
    "# strip\n",
    "!nbstripout test_notebook.ipynb\n",
    "\n",
    "# show changes are registered by git\n",
    "!git status"
   ]
  },
  {
   "cell_type": "markdown",
   "metadata": {},
   "source": [
    "We can see that by stripping out our randomly generated output we are left only with the code. Since it has not changed from the previous commit git tells us that there are no changes to commit for our notebook."
   ]
  },
  {
   "cell_type": "markdown",
   "metadata": {},
   "source": [
    "### Make code changes to see if they're registered"
   ]
  },
  {
   "cell_type": "markdown",
   "metadata": {},
   "source": [
    "Now let's try to add new code to the test notebook to see the actual power of nbstripout. We add a new code cell at the bottom of the file then we see what git tells us:"
   ]
  },
  {
   "cell_type": "code",
   "execution_count": 18,
   "metadata": {},
   "outputs": [
    {
     "name": "stdout",
     "output_type": "stream",
     "text": [
      "Overwriting test.py\n"
     ]
    }
   ],
   "source": [
    "%%writefile test.py\n",
    "# <codecell>\n",
    "from matplotlib.pyplot import subplots,scatter\n",
    "from numpy import random,arange\n",
    "from time import localtime, strftime\n",
    "\n",
    "# <codecell>\n",
    "# print a timestamp\n",
    "print(\"Last time the notebook has been executed: {}\".format(strftime(\"%a, %d %b %Y %H:%M:%S\", localtime())))\n",
    "\n",
    "# <codecell>\n",
    "# print a random list\n",
    "print(\"A random list: {}\".format(random.randint(1,100,5)))\n",
    "\n",
    "# <codecell>\n",
    "# print a figure\n",
    "fig, ax = subplots(figsize=(5,5))\n",
    "x_points = random.randint(1,100,20)\n",
    "exponent_1 = random.choice(arange(-1,3.5,0.5))\n",
    "exponent_2 = random.choice(arange(-1,3.5,0.5))\n",
    "ax.scatter(x_points, x_points**exponent_1, label=exponent_1, marker='+')\n",
    "ax.scatter(x_points, x_points**exponent_2, label=exponent_2, alpha=0.5)\n",
    "ax.legend();\n",
    "ax.set_title('A randomized figure:');\n",
    "\n",
    "# <codecell>\n",
    "# new code <--------------\n",
    "print(\"This some new code I've added to test nbstripout\")"
   ]
  },
  {
   "cell_type": "code",
   "execution_count": 19,
   "metadata": {},
   "outputs": [],
   "source": [
    "# taken from \n",
    "# https://stackoverflow.com/questions/23292242/converting-to-not-from-ipython-notebook-format\n",
    "from nbformat import v3, v4\n",
    "with open(\"test.py\") as fpin:\n",
    "    text = fpin.read()\n",
    "nbook = v3.reads_py(text)\n",
    "nbook = v4.upgrade(nbook)  # Upgrade v3 to v4\n",
    "jsonform = v4.writes(nbook) + \"\\n\"\n",
    "with open(\"test_notebook.ipynb\", \"w\") as fpout:\n",
    "    fpout.write(jsonform)"
   ]
  },
  {
   "cell_type": "code",
   "execution_count": 20,
   "metadata": {},
   "outputs": [
    {
     "name": "stdout",
     "output_type": "stream",
     "text": [
      "On branch master\r\n",
      "Changes not staged for commit:\r\n",
      "  (use \"git add <file>...\" to update what will be committed)\r\n",
      "  (use \"git checkout -- <file>...\" to discard changes in working directory)\r\n",
      "\r\n",
      "\t\u001b[31mmodified:   test_notebook.ipynb\u001b[m\r\n",
      "\r\n",
      "Untracked files:\r\n",
      "  (use \"git add <file>...\" to include in what will be committed)\r\n",
      "\r\n",
      "\t\u001b[31m.ipynb_checkpoints/\u001b[m\r\n",
      "\t\u001b[31mHow to integrate Git on Jupyter Notebooks.ipynb\u001b[m\r\n",
      "\t\u001b[31mREADME.md\u001b[m\r\n",
      "\t\u001b[31mtest.py\u001b[m\r\n",
      "\r\n",
      "no changes added to commit (use \"git add\" and/or \"git commit -a\")\r\n"
     ]
    }
   ],
   "source": [
    "!git status"
   ]
  },
  {
   "cell_type": "markdown",
   "metadata": {},
   "source": [
    "We've added some code, so it's normal that git ask us to commit the changes. But since we don't know if it is code or simply the output we execute the notebook again and then pass it through nbstripout before asking again. If git tells us that there's something new now we know that it is only code:"
   ]
  },
  {
   "cell_type": "code",
   "execution_count": 21,
   "metadata": {},
   "outputs": [
    {
     "name": "stdout",
     "output_type": "stream",
     "text": [
      "[NbConvertApp] WARNING | Config option `template_path` not recognized by `NotebookExporter`.\n",
      "[NbConvertApp] Converting notebook test_notebook.ipynb to notebook\n",
      "[NbConvertApp] Executing notebook with kernel: python\n",
      "[NbConvertApp] Writing 12419 bytes to test_notebook.ipynb\n",
      "On branch master\n",
      "Changes not staged for commit:\n",
      "  (use \"git add <file>...\" to update what will be committed)\n",
      "  (use \"git checkout -- <file>...\" to discard changes in working directory)\n",
      "\n",
      "\t\u001b[31mmodified:   test_notebook.ipynb\u001b[m\n",
      "\n",
      "Untracked files:\n",
      "  (use \"git add <file>...\" to include in what will be committed)\n",
      "\n",
      "\t\u001b[31m.ipynb_checkpoints/\u001b[m\n",
      "\t\u001b[31mHow to integrate Git on Jupyter Notebooks.ipynb\u001b[m\n",
      "\t\u001b[31mREADME.md\u001b[m\n",
      "\t\u001b[31mtest.py\u001b[m\n",
      "\n",
      "no changes added to commit (use \"git add\" and/or \"git commit -a\")\n"
     ]
    }
   ],
   "source": [
    "# execute the notebook\n",
    "!jupyter nbconvert --execute --to notebook --inplace test_notebook\n",
    "\n",
    "# strip\n",
    "!nbstripout test_notebook.ipynb\n",
    "\n",
    "# show changes are registered by git\n",
    "!git status"
   ]
  },
  {
   "cell_type": "markdown",
   "metadata": {},
   "source": [
    "It is code! So let's commit and see the diff:"
   ]
  },
  {
   "cell_type": "code",
   "execution_count": 22,
   "metadata": {},
   "outputs": [
    {
     "name": "stdout",
     "output_type": "stream",
     "text": [
      "[master e1bf32b] 'Ran the notebook, got new code. Committing it's mandatory now.\n",
      " Author: author <name.surname@mail.org>\n",
      " 1 file changed, 10 insertions(+)\n",
      "\u001b[33mcommit e1bf32bacf9a7aba7b1769a8f1e3bf9c7e2518d8\u001b[m\n",
      "Author: author <name.surname@mail.org>\n",
      "Date:   Mon Jul 30 20:30:24 2018 +0200\n",
      "\n",
      "    'Ran the notebook, got new code. Committing it's mandatory now.\n",
      "\n",
      "\u001b[1mdiff --git a/test_notebook.ipynb b/test_notebook.ipynb\u001b[m\n",
      "\u001b[1mindex 0a0edde..1db6f4f 100644\u001b[m\n",
      "\u001b[1m--- a/test_notebook.ipynb\u001b[m\n",
      "\u001b[1m+++ b/test_notebook.ipynb\u001b[m\n",
      "\u001b[36m@@ -47,6 +47,16 @@\u001b[m\n",
      "     \"ax.legend();\\n\",\u001b[m\n",
      "     \"ax.set_title('A randomized figure:');\"\u001b[m\n",
      "    ]\u001b[m\n",
      "\u001b[32m+\u001b[m\u001b[32m  },\u001b[m\n",
      "\u001b[32m+\u001b[m\u001b[32m  {\u001b[m\n",
      "\u001b[32m+\u001b[m\u001b[32m   \"cell_type\": \"code\",\u001b[m\n",
      "\u001b[32m+\u001b[m\u001b[32m   \"execution_count\": null,\u001b[m\n",
      "\u001b[32m+\u001b[m\u001b[32m   \"metadata\": {},\u001b[m\n",
      "\u001b[32m+\u001b[m\u001b[32m   \"outputs\": [],\u001b[m\n",
      "\u001b[32m+\u001b[m\u001b[32m   \"source\": [\u001b[m\n",
      "\u001b[32m+\u001b[m\u001b[32m    \"# new code\\n\",\u001b[m\n",
      "\u001b[32m+\u001b[m\u001b[32m    \"print(\\\"This some new code I've added to test nbstripout\\\")\"\u001b[m\n",
      "\u001b[32m+\u001b[m\u001b[32m   ]\u001b[m\n",
      "   }\u001b[m\n",
      "  ],\u001b[m\n",
      "  \"metadata\": {},\u001b[m\n"
     ]
    }
   ],
   "source": [
    "# add and commit\n",
    "!git add test_notebook.ipynb\n",
    "!git commit -m \"'Ran the notebook, got new code. Committing it's mandatory now.\" --author=\"author <name.surname@mail.org>\"\n",
    "\n",
    "# check log to see the content of changes\n",
    "!git log -p -1 "
   ]
  },
  {
   "cell_type": "markdown",
   "metadata": {},
   "source": [
    "Now we can see only the change in the code in the diff, exactly what we needed."
   ]
  },
  {
   "cell_type": "markdown",
   "metadata": {},
   "source": [
    "# Solution 2: Analyze diffs with `nbdime` "
   ]
  },
  {
   "cell_type": "markdown",
   "metadata": {},
   "source": [
    "Even after solving the output problem with `nbstripout` we're left with diffs which are a little bit convoluted to interpret (cfr how a one line change is registered above). Moreover sometimes it's fine for us that git stores also the changes in output, since they contain valuable, but we would like a better tool to check differences in output and have a clearer way to proceed with merge.\n",
    "\n",
    "Enters `nbdime`[(documentation here)](http://nbdime.readthedocs.io/en/stable/). `nbdime` is a tool with several features designed to help preview, compare and merge notebooks:\n",
    "\n",
    "- `nbdiff` compare notebooks in a terminal-friendly way\n",
    "- `nbmerge` three-way merge of notebooks with automatic conflict resolution\n",
    "- `nbdiff-web` shows you a rich rendered diff of notebooks\n",
    "- `nbmerge-web` gives you a web-based three-way merge tool for notebooks\n",
    "- `nbshow` present a single notebook in a terminal-friendly way"
   ]
  },
  {
   "cell_type": "markdown",
   "metadata": {},
   "source": [
    "## Installation and setup"
   ]
  },
  {
   "cell_type": "markdown",
   "metadata": {},
   "source": [
    "As before, installing `nbdime` is straightforward when following the instructions. Like `nbstripout` it must be activate singularly in each folder so that one can choose if he wants to use for a particular project. In my case it has been enough to type:"
   ]
  },
  {
   "cell_type": "markdown",
   "metadata": {},
   "source": [
    "```bash\n",
    "# install module\n",
    ">>> pip install --upgrade nbdime\n",
    "\n",
    "# initiate program inside the folder\n",
    ">>> !nbdime config-git --enable\n",
    "```"
   ]
  },
  {
   "cell_type": "markdown",
   "metadata": {},
   "source": [
    "## Demonstration "
   ]
  },
  {
   "cell_type": "code",
   "execution_count": 29,
   "metadata": {},
   "outputs": [],
   "source": [
    "# activate it in the actual folder of this notebook\n",
    "!nbdime config-git --enable"
   ]
  },
  {
   "cell_type": "markdown",
   "metadata": {},
   "source": [
    "First let's use the command line tool to check the last two diffs. (Note: here I'm using the hashes of *my* commits, you have to check your log to get yours otherwise the command will fail):"
   ]
  },
  {
   "cell_type": "code",
   "execution_count": 36,
   "metadata": {},
   "outputs": [
    {
     "name": "stdout",
     "output_type": "stream",
     "text": [
      "nbdiff test_notebook.ipynb (f553535ec6c3d6fb85ef598bc30c52836a6fdd3f) test_notebook.ipynb (e1bf32bacf9a7aba7b1769a8f1e3bf9c7e2518d8)\r\n",
      "--- test_notebook.ipynb (f553535ec6c3d6fb85ef598bc30c52836a6fdd3f)  (no timestamp)\r\n",
      "+++ test_notebook.ipynb (e1bf32bacf9a7aba7b1769a8f1e3bf9c7e2518d8)  (no timestamp)\r\n",
      "\u001b[34m## inserted before /cells/4:\u001b[0m\r\n",
      "\u001b[32m+  code cell:\r\n",
      "\u001b[32m+    source:\r\n",
      "\u001b[32m+      # new code\r\n",
      "\u001b[32m+      print(\"This some new code I've added to test nbstripout\")\r\n",
      "\r\n",
      "\u001b[0m"
     ]
    }
   ],
   "source": [
    "!nbdiff f553535ec6c3d6fb85ef598bc30c52836a6fdd3f e1bf32bacf9a7aba7b1769a8f1e3bf9c7e2518d8"
   ]
  },
  {
   "cell_type": "markdown",
   "metadata": {},
   "source": [
    "We can see that `nbdime` recognize the content of the notebook and gives us a clearer diff. Now let's use its web visualization tool to visualize the diffs:"
   ]
  },
  {
   "cell_type": "code",
   "execution_count": 34,
   "metadata": {},
   "outputs": [
    {
     "name": "stdout",
     "output_type": "stream",
     "text": [
      "[I nbdimeserver:374] Listening on 127.0.0.1, port 63572\n",
      "[W webutil:18] No web browser found: could not locate runnable browser.\n",
      "[I webutil:29] URL: http://127.0.0.1:63572/difftool\n",
      "[W handlers:443] Blocking request with non-local 'Host' 127.0.0.1 (127.0.0.1:63572). If the notebook should be accessible at that name, set NotebookApp.allow_remote_access to disable the check.\n",
      "[W log:48] 403 GET /difftool (127.0.0.1) 6.04ms referer=http://localhost:8887/notebooks/github_tutorial/git_on_jupyter_testing/How%20to%20integrate%20Git%20on%20Jupyter%20Notebooks.ipynb\n",
      "[W handlers:443] Blocking request with non-local 'Host' 127.0.0.1 (127.0.0.1:63572). If the notebook should be accessible at that name, set NotebookApp.allow_remote_access to disable the check.\n",
      "[W log:48] 403 GET /difftool (127.0.0.1) 6.19ms referer=None\n",
      "^C\n",
      "Traceback (most recent call last):\n",
      "  File \"/home/gibbone/anaconda3/envs/env_2.7/bin/nbdiff-web\", line 11, in <module>\n",
      "    sys.exit(main())\n",
      "  File \"/home/gibbone/anaconda3/envs/env_2.7/lib/python2.7/site-packages/nbdime/webapp/nbdiffweb.py\", line 95, in main\n",
      "    return main_diff(opts)\n",
      "  File \"/home/gibbone/anaconda3/envs/env_2.7/lib/python2.7/site-packages/nbdime/webapp/nbdiffweb.py\", line 81, in main_diff\n",
      "    return handle_gitrefs(base, remote, path, opts)\n",
      "  File \"/home/gibbone/anaconda3/envs/env_2.7/lib/python2.7/site-packages/nbdime/webapp/nbdiffweb.py\", line 69, in handle_gitrefs\n",
      "    **args_for_server(arguments))\n",
      "  File \"/home/gibbone/anaconda3/envs/env_2.7/lib/python2.7/site-packages/nbdime/webapp/nbdimeserver.py\", line 390, in main_server\n",
      "    io_loop.start()\n",
      "  File \"/home/gibbone/anaconda3/envs/env_2.7/lib/python2.7/site-packages/tornado/ioloop.py\", line 1048, in start\n",
      "    event_pairs = self._impl.poll(poll_timeout)\n",
      "KeyboardInterrupt\n"
     ]
    }
   ],
   "source": [
    "!nbdiff-web e1bf32bacf9a7aba7b1769a8f1e3bf9c7e2518d8 f553535ec6c3d6fb85ef598bc30c52836a6fdd3f"
   ]
  },
  {
   "cell_type": "code",
   "execution_count": null,
   "metadata": {},
   "outputs": [],
   "source": []
  }
 ],
 "metadata": {
  "kernelspec": {
   "display_name": "Python 2",
   "language": "python",
   "name": "python2"
  },
  "language_info": {
   "codemirror_mode": {
    "name": "ipython",
    "version": 2
   },
   "file_extension": ".py",
   "mimetype": "text/x-python",
   "name": "python",
   "nbconvert_exporter": "python",
   "pygments_lexer": "ipython2",
   "version": "2.7.15"
  }
 },
 "nbformat": 4,
 "nbformat_minor": 2
}
